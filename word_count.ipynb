{
 "cells": [
  {
   "cell_type": "code",
   "execution_count": 7,
   "id": "7deb1940-b219-48c5-b1a0-393c3b1b470d",
   "metadata": {},
   "outputs": [
    {
     "name": "stdin",
     "output_type": "stream",
     "text": [
      "Enter a sentence: hty\n"
     ]
    },
    {
     "name": "stdout",
     "output_type": "stream",
     "text": [
      "word count: 1\n"
     ]
    }
   ],
   "source": [
    "def word_count(text):\n",
    "    words=text.split()\n",
    "    return len (words)\n",
    "sentence=input(\"Enter a sentence:\")\n",
    "print(\"word count:\", word_count(sentence))"
   ]
  },
  {
   "cell_type": "code",
   "execution_count": 24,
   "id": "f90720bb-3972-4c08-8c4e-789dccc0f9f0",
   "metadata": {},
   "outputs": [
    {
     "name": "stdin",
     "output_type": "stream",
     "text": [
      "Enter a sentence: hello\n"
     ]
    },
    {
     "name": "stdout",
     "output_type": "stream",
     "text": [
      "Number of word in a paragraph are: 1\n"
     ]
    }
   ],
   "source": [
    "paragraph=input(\"Enter a sentence:\").strip()\n",
    "count = 0\n",
    "for char in paragraph:\n",
    "    if char == \" \" or char == \"\\n\":\n",
    "        count+=1\n",
    "print(f\"Number of word in a paragraph are: {count+1}\")"
   ]
  },
  {
   "cell_type": "code",
   "execution_count": null,
   "id": "4e1a2632-fd48-4227-96ab-467ccfc0a037",
   "metadata": {},
   "outputs": [],
   "source": []
  }
 ],
 "metadata": {
  "kernelspec": {
   "display_name": "Python 3 (ipykernel)",
   "language": "python",
   "name": "python3"
  },
  "language_info": {
   "codemirror_mode": {
    "name": "ipython",
    "version": 3
   },
   "file_extension": ".py",
   "mimetype": "text/x-python",
   "name": "python",
   "nbconvert_exporter": "python",
   "pygments_lexer": "ipython3",
   "version": "3.13.2"
  }
 },
 "nbformat": 4,
 "nbformat_minor": 5
}
